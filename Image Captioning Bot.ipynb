{
 "cells": [
  {
   "cell_type": "markdown",
   "metadata": {},
   "source": [
    "## Image Captioning \n",
    "- Genrating Captions for Images"
   ]
  },
  {
   "cell_type": "markdown",
   "metadata": {},
   "source": [
    "## Steps\n",
    "- Data collection\n",
    "- Understanding the data\n",
    "- Data Cleaning\n",
    "- Loading the training set\n",
    "- Data Preprocessing — Images\n",
    "- Data Preprocessing — Captions\n",
    "- Data Preparation using Generator Function\n",
    "- Word Embeddings\n",
    "- Model Architecture\n",
    "- Inference\n",
    "- Evaluation"
   ]
  },
  {
   "cell_type": "markdown",
   "metadata": {},
   "source": [
    "## Read Caption/ Data Collection\n",
    "There are many open source datasets available for this problem, like Flickr 8k\n",
    "(containing8k images), Flickr 30k (containing 30k images), MS COCO (containing\n",
    "180k images), etc.\n",
    "\n",
    "I've used flickr8k dataset that is available on kaggle. You can\n",
    "run download_data.sh shell script. Before that put kaggle.json which is kaggle api\n",
    "key in same directory.\n",
    "This dataset contains 8000 images each with 5 captions (as we have already seen in\n",
    "the Introduction section that an image can have multiple captions, all being relevant\n",
    "simultaneously).\n",
    "\n",
    "These images are bifurcated as follows:\n",
    "- Training Set — 6000 images\n",
    "- Dev Set — 1000 images\n",
    "- Test Set — 1000 images"
   ]
  },
  {
   "cell_type": "code",
   "execution_count": 2,
   "metadata": {},
   "outputs": [],
   "source": [
    "import pandas as pd\n",
    "import numpy as np\n",
    "import matplotlib.pyplot as plt\n",
    "import keras\n",
    "import re\n",
    "import nltk\n",
    "from nltk.corpus import stopwords\n",
    "import string\n",
    "import json\n",
    "from time import time\n",
    "import pickle\n",
    "from keras.applications.vgg16 import VGG16\n",
    "from keras.applications.resnet50 import ResNet50, preprocess_input, decode_predictions\n",
    "from keras.preprocessing import image\n",
    "from keras.models import Model, load_model\n",
    "from keras.preprocessing.sequence import pad_sequences\n",
    "from keras.utils import to_categorical\n",
    "from keras.layers import Input, Dense, Dropout, Embedding, LSTM\n",
    "from keras.layers.merge import add"
   ]
  },
  {
   "cell_type": "code",
   "execution_count": 3,
   "metadata": {},
   "outputs": [],
   "source": [
    "def readText(path):\n",
    "    with open(path) as f:\n",
    "        caption = f.read()\n",
    "    return caption"
   ]
  },
  {
   "cell_type": "code",
   "execution_count": 9,
   "metadata": {},
   "outputs": [],
   "source": [
    "caption = readText(\"D:\\\\Desktop\\\\Flickr_Data\\\\Flickr_TextData\\\\Flickr8k.token.txt\")"
   ]
  },
  {
   "cell_type": "code",
   "execution_count": 5,
   "metadata": {},
   "outputs": [
    {
     "name": "stdout",
     "output_type": "stream",
     "text": [
      "40461\n"
     ]
    }
   ],
   "source": [
    "## Length of the Caption text Data\n",
    "caption = caption.split(\"\\n\")\n",
    "print(len(caption))"
   ]
  },
  {
   "cell_type": "markdown",
   "metadata": {},
   "source": [
    "## Print Caption"
   ]
  },
  {
   "cell_type": "code",
   "execution_count": 6,
   "metadata": {},
   "outputs": [
    {
     "data": {
      "text/plain": [
       "'1000268201_693b08cb0e.jpg#0\\tA child in a pink dress is climbing up a set of stairs in an entry way .'"
      ]
     },
     "execution_count": 6,
     "metadata": {},
     "output_type": "execute_result"
    }
   ],
   "source": [
    "caption[0]"
   ]
  },
  {
   "cell_type": "code",
   "execution_count": 7,
   "metadata": {},
   "outputs": [
    {
     "data": {
      "text/plain": [
       "''"
      ]
     },
     "execution_count": 7,
     "metadata": {},
     "output_type": "execute_result"
    }
   ],
   "source": [
    "caption[-1]"
   ]
  },
  {
   "cell_type": "markdown",
   "metadata": {},
   "source": [
    "<b>So Last Caption is empty. To Clean and achive accurate data, We can discard id by performing sclicing operation. </b>"
   ]
  },
  {
   "cell_type": "code",
   "execution_count": 10,
   "metadata": {},
   "outputs": [],
   "source": [
    "caption = caption.split(\"\\n\")[:-1]"
   ]
  },
  {
   "cell_type": "code",
   "execution_count": 11,
   "metadata": {},
   "outputs": [
    {
     "name": "stdout",
     "output_type": "stream",
     "text": [
      "40460\n"
     ]
    }
   ],
   "source": [
    "## Now, Length of the Caption text Data\n",
    "print(len(caption))"
   ]
  },
  {
   "cell_type": "code",
   "execution_count": 12,
   "metadata": {},
   "outputs": [
    {
     "data": {
      "text/plain": [
       "'997722733_0cb5439472.jpg#4\\tA rock climber practices on a rock climbing wall .'"
      ]
     },
     "execution_count": 12,
     "metadata": {},
     "output_type": "execute_result"
    }
   ],
   "source": [
    "caption[-1]"
   ]
  },
  {
   "cell_type": "markdown",
   "metadata": {},
   "source": [
    "## Understanding the data\n",
    "If you have downloaded the data from the Kaggle that I have provided, then, along with images, you will also get some text files related to the images. One of the files\n",
    "is “Flickr8k.token.txt” which contains the name of each image along with its 5\n",
    "captions. \n",
    "\n",
    "To read the 5 caption for a Sigle Image We have to create the Dictinary to map each Image with List of Caption It has..."
   ]
  },
  {
   "cell_type": "code",
   "execution_count": 13,
   "metadata": {},
   "outputs": [],
   "source": [
    "discription = {}\n",
    "\n",
    "for x in caption:\n",
    "    first,second = x.split(\"\\t\")\n",
    "    img_name = first.split(\".\")[0]\n",
    "    # if image id is already exist or not\n",
    "    if discription.get(img_name) is None:\n",
    "        discription[img_name] = []\n",
    "    discription[img_name].append(second)"
   ]
  },
  {
   "cell_type": "code",
   "execution_count": 14,
   "metadata": {},
   "outputs": [
    {
     "data": {
      "text/plain": [
       "['A child in a pink dress is climbing up a set of stairs in an entry way .',\n",
       " 'A girl going into a wooden building .',\n",
       " 'A little girl climbing into a wooden playhouse .',\n",
       " 'A little girl climbing the stairs to her playhouse .',\n",
       " 'A little girl in a pink dress going into a wooden cabin .']"
      ]
     },
     "execution_count": 14,
     "metadata": {},
     "output_type": "execute_result"
    }
   ],
   "source": [
    "## We can read this file as follows : \n",
    "discription['1000268201_693b08cb0e']"
   ]
  },
  {
   "cell_type": "markdown",
   "metadata": {},
   "source": [
    "## Fatch Images "
   ]
  },
  {
   "cell_type": "code",
   "execution_count": 15,
   "metadata": {},
   "outputs": [],
   "source": [
    "import cv2\n",
    "import matplotlib.pyplot as plt "
   ]
  },
  {
   "cell_type": "code",
   "execution_count": 16,
   "metadata": {},
   "outputs": [],
   "source": [
    "img = cv2.imread(\"D:\\\\Desktop\\\\Flickr_Data\\\\Images\\\\1000268201_693b08cb0e.jpg\")"
   ]
  },
  {
   "cell_type": "code",
   "execution_count": 17,
   "metadata": {},
   "outputs": [
    {
     "data": {
      "text/plain": [
       "<function matplotlib.pyplot.show(close=None, block=None)>"
      ]
     },
     "execution_count": 17,
     "metadata": {},
     "output_type": "execute_result"
    },
    {
     "data": {
      "image/png": "[encoded data removed]",
      "text/plain": [
       "<Figure size 432x288 with 1 Axes>"
      ]
     },
     "metadata": {
      "needs_background": "light"
     },
     "output_type": "display_data"
    }
   ],
   "source": [
    "img = cv2.cvtColor(img,cv2.COLOR_BGR2RGB)\n",
    "plt.imshow(img)\n",
    "plt.axis(\"off\")\n",
    "plt.show"
   ]
  },
  {
   "cell_type": "markdown",
   "metadata": {},
   "source": [
    "So, We can Conclude that Our modle will give 5 caption is seem to be correct which is in Image."
   ]
  },
  {
   "cell_type": "markdown",
   "metadata": {},
   "source": [
    "## Data Cleaning\n",
    "To clean the sentences We usualy perform some NLTK library function like - Stopeword removel, Stemming etc. same as we perform in Sentiment analysis. But here we can not perform these operation here. because we have to manage grammer meaning of the sentences for Eg. if we perform stemming on example \"Running\" it will make Run which will come out different meaning for the caption.\n",
    "\n",
    "Here When we deal with text, we generally perform some basic cleaning like lowercasing all the words (otherwise “hello” and “Hello” will be regarded as two separate\n",
    "words), removing special tokens (like ‘%’, ‘$’, ‘#’, etc.), eliminating words which\n",
    "contain numbers (like ‘hey199’, etc.).\n"
   ]
  },
  {
   "cell_type": "code",
   "execution_count": 18,
   "metadata": {},
   "outputs": [],
   "source": [
    "import re\n",
    "def Clean_text(Sentence):\n",
    "    Sentence = Sentence.lower()\n",
    "    Sentence = re.sub(\"[^a-z]+\",\" \",Sentence)\n",
    "    Sentence = Sentence.split()\n",
    "    \n",
    "    Sentence = [s for s in Sentence if (len(s)>1)]\n",
    "    Sentence = \" \".join(Sentence)\n",
    "    return Sentence"
   ]
  },
  {
   "cell_type": "code",
   "execution_count": 19,
   "metadata": {},
   "outputs": [
    {
     "data": {
      "text/plain": [
       "'cat is sitting over the house'"
      ]
     },
     "execution_count": 19,
     "metadata": {},
     "output_type": "execute_result"
    }
   ],
   "source": [
    "## Check Function for sample Eg.\n",
    "Clean_text(\"A cat is sitting over the house #64\")"
   ]
  },
  {
   "cell_type": "code",
   "execution_count": 20,
   "metadata": {},
   "outputs": [],
   "source": [
    "## Clean All the Caption"
   ]
  },
  {
   "cell_type": "code",
   "execution_count": 21,
   "metadata": {},
   "outputs": [],
   "source": [
    "for key,caption_list in discription.items(): # treated as key, value = key,caption_list\n",
    "    for i in range(len(caption_list)): # treverse all the 5 caption of single image\n",
    "        caption_list[i] = Clean_text(caption_list[i])"
   ]
  },
  {
   "cell_type": "code",
   "execution_count": 22,
   "metadata": {},
   "outputs": [
    {
     "data": {
      "text/plain": [
       "['child in pink dress is climbing up set of stairs in an entry way',\n",
       " 'girl going into wooden building',\n",
       " 'little girl climbing into wooden playhouse',\n",
       " 'little girl climbing the stairs to her playhouse',\n",
       " 'little girl in pink dress going into wooden cabin']"
      ]
     },
     "execution_count": 22,
     "metadata": {},
     "output_type": "execute_result"
    }
   ],
   "source": [
    "discription['1000268201_693b08cb0e'] # Check for an image "
   ]
  },
  {
   "cell_type": "markdown",
   "metadata": {},
   "source": [
    "## Create a vocabulary \n",
    "Create a vocabulary of all the unique words present across all the 8000*5 (i.e. 40000) image captions (corpus) in the data set However, if we think about it, many of these words will occur very few times, say 1, 2 or 3 times. Since we are creating a predictive model, we would not like to have all the words present in our vocabulary but the words which are more likely to occur or which are common. This helps the model become more robust to outliers and make less mistakes."
   ]
  },
  {
   "cell_type": "code",
   "execution_count": 23,
   "metadata": {},
   "outputs": [
    {
     "name": "stdout",
     "output_type": "stream",
     "text": [
      "vocabulary  Size : 8424\n"
     ]
    }
   ],
   "source": [
    "vocabulary  = set()\n",
    "for key in discription.keys():\n",
    "    [vocabulary .update(sentence.split()) for sentence in discription[key]]\n",
    "print(\"vocabulary  Size : %d\" % len(vocabulary ))\n",
    "    "
   ]
  },
  {
   "cell_type": "code",
   "execution_count": 24,
   "metadata": {},
   "outputs": [
    {
     "name": "stdout",
     "output_type": "stream",
     "text": [
      "Total Words 373837\n"
     ]
    }
   ],
   "source": [
    "## Total number of Words acroos all the Sentences \n",
    "total_words = []\n",
    "for key in discription.keys():\n",
    "    [total_words.append(i) for des in discription[key] for i in des.split()]\n",
    "print(\"Total Words %d\"%len(total_words))"
   ]
  },
  {
   "cell_type": "code",
   "execution_count": 25,
   "metadata": {},
   "outputs": [
    {
     "name": "stdout",
     "output_type": "stream",
     "text": [
      "['child', 'in', 'pink', 'dress', 'is', 'climbing', 'up', 'set', 'of', 'stairs']\n"
     ]
    }
   ],
   "source": [
    "print(total_words[:10])"
   ]
  },
  {
   "cell_type": "code",
   "execution_count": 26,
   "metadata": {},
   "outputs": [],
   "source": [
    "# Hence we consider only those words which occur at least 10 times in the entire corpus. The code for this is below\n",
    "# Filter Words from the Vocab according to Certaion treshhold frequency"
   ]
  },
  {
   "cell_type": "code",
   "execution_count": 27,
   "metadata": {},
   "outputs": [
    {
     "name": "stdout",
     "output_type": "stream",
     "text": [
      "8424\n"
     ]
    }
   ],
   "source": [
    "import collections\n",
    "from collections import Counter\n",
    "Counter = collections.Counter(total_words)\n",
    "freq_cnt = dict(Counter)\n",
    "print (len(freq_cnt.keys())) # this shows that how many time word is occuring "
   ]
  },
  {
   "cell_type": "code",
   "execution_count": 28,
   "metadata": {},
   "outputs": [],
   "source": [
    "# Sort this dictonary according to the freq Count"
   ]
  },
  {
   "cell_type": "code",
   "execution_count": 36,
   "metadata": {},
   "outputs": [],
   "source": [
    "sorted_freq_cnt = sorted(freq_cnt.items(),reverse=True,key=lambda x:x[1])\n",
    "\n",
    "#Filtering\n",
    "threshold = 10\n",
    "sorted_freq_cnt = [x for x in sorted_freq_cnt if x[1]>threshold]\n",
    "total_word = [x[0] for x in sorted_freq_cnt]"
   ]
  },
  {
   "cell_type": "code",
   "execution_count": 40,
   "metadata": {},
   "outputs": [
    {
     "name": "stdout",
     "output_type": "stream",
     "text": [
      "1845\n"
     ]
    }
   ],
   "source": [
    "print(len(total_word)) # Show Sorted >freq uniqe words"
   ]
  },
  {
   "cell_type": "markdown",
   "metadata": {},
   "source": [
    "So We have started with somewhere arount 317000 words and to perfor preproceesing opretion we have left 1845 words\n",
    "\n",
    "So now we have only 1845 unique words in our vocabulary. However, we will append 0’s (zero padding explained later) and thus total words = 1845+1 = 1846 (one index for the 0).\n",
    "\n"
   ]
  },
  {
   "cell_type": "markdown",
   "metadata": {},
   "source": [
    "## Prepare Train/Test Data"
   ]
  },
  {
   "cell_type": "markdown",
   "metadata": {},
   "source": [
    "## Read Files"
   ]
  },
  {
   "cell_type": "code",
   "execution_count": 50,
   "metadata": {},
   "outputs": [],
   "source": [
    "train_file_data = readText(\"D:\\\\Desktop\\\\Flickr_Data\\\\Flickr_TextData\\\\Flickr_8k.trainImages.txt\")\n",
    "test_file_data = readText(\"D:\\\\Desktop\\\\Flickr_Data\\\\Flickr_TextData\\\\Flickr_8k.testImages.txt\")"
   ]
  },
  {
   "cell_type": "code",
   "execution_count": 51,
   "metadata": {},
   "outputs": [],
   "source": [
    "train = [row.split(\".\")[0] for row in train_file_data.split(\"\\n\")[:-1] ]\n",
    "test = [row.split(\".\")[0] for row in test_file_data.split(\"\\n\")[:-1] ]"
   ]
  },
  {
   "cell_type": "code",
   "execution_count": 52,
   "metadata": {},
   "outputs": [
    {
     "data": {
      "text/plain": [
       "['2513260012_03d33305cf',\n",
       " '2903617548_d3e38d7f88',\n",
       " '3338291921_fe7ae0c8f8',\n",
       " '488416045_1c6d903fe0',\n",
       " '2644326817_8f45080b87']"
      ]
     },
     "execution_count": 52,
     "metadata": {},
     "output_type": "execute_result"
    }
   ],
   "source": [
    "train[:5]"
   ]
  },
  {
   "cell_type": "code",
   "execution_count": null,
   "metadata": {},
   "outputs": [],
   "source": [
    "# Now Prepare Description for Training Data \n",
    "# Tweak - Add <s> and <e> token to our training data\n",
    "train_description = {}\n",
    "for img_id in train:\n",
    "    train_description[img_id] = []\n",
    "    for cap in discription[img_id]:\n",
    "        cap_append = \"startseq \" + cap + \" endseq\"\n",
    "        train_description[img_id].append(cap_append)"
   ]
  },
  {
   "cell_type": "code",
   "execution_count": 63,
   "metadata": {
    "scrolled": true
   },
   "outputs": [
    {
     "data": {
      "text/plain": [
       "['startseq child in pink dress is climbing up set of stairs in an entry way endseq',\n",
       " 'startseq girl going into wooden building endseq',\n",
       " 'startseq little girl climbing into wooden playhouse endseq',\n",
       " 'startseq little girl climbing the stairs to her playhouse endseq',\n",
       " 'startseq little girl in pink dress going into wooden cabin endseq']"
      ]
     },
     "execution_count": 63,
     "metadata": {},
     "output_type": "execute_result"
    }
   ],
   "source": [
    "train_description['1000268201_693b08cb0e']"
   ]
  },
  {
   "cell_type": "markdown",
   "metadata": {},
   "source": [
    "## Image  Preprocessing"
   ]
  },
  {
   "cell_type": "code",
   "execution_count": null,
   "metadata": {},
   "outputs": [],
   "source": []
  }
 ],
 "metadata": {
  "kernelspec": {
   "display_name": "Python 3",
   "language": "python",
   "name": "python3"
  },
  "language_info": {
   "codemirror_mode": {
    "name": "ipython",
    "version": 3
   },
   "file_extension": ".py",
   "mimetype": "text/x-python",
   "name": "python",
   "nbconvert_exporter": "python",
   "pygments_lexer": "ipython3",
   "version": "3.8.5"
  }
 },
 "nbformat": 4,
 "nbformat_minor": 4
}
